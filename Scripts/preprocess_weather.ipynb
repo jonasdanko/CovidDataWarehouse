{
 "cells": [
  {
   "cell_type": "code",
   "execution_count": 1,
   "metadata": {},
   "outputs": [],
   "source": [
    "import pandas as pd\n",
    "import numpy as np\n",
    "\n",
    "from datetime import datetime, timedelta"
   ]
  },
  {
   "cell_type": "code",
   "execution_count": 2,
   "metadata": {},
   "outputs": [],
   "source": [
    "weather = pd.read_csv(\"weather_daily.csv\")"
   ]
  },
  {
   "cell_type": "code",
   "execution_count": 3,
   "metadata": {},
   "outputs": [
    {
     "data": {
      "text/html": [
       "<div>\n",
       "<style scoped>\n",
       "    .dataframe tbody tr th:only-of-type {\n",
       "        vertical-align: middle;\n",
       "    }\n",
       "\n",
       "    .dataframe tbody tr th {\n",
       "        vertical-align: top;\n",
       "    }\n",
       "\n",
       "    .dataframe thead th {\n",
       "        text-align: right;\n",
       "    }\n",
       "</style>\n",
       "<table border=\"1\" class=\"dataframe\">\n",
       "  <thead>\n",
       "    <tr style=\"text-align: right;\">\n",
       "      <th></th>\n",
       "      <th>Longitude</th>\n",
       "      <th>Latitude</th>\n",
       "      <th>Station_Name</th>\n",
       "      <th>Climate_ID</th>\n",
       "      <th>Date</th>\n",
       "      <th>Max_Temp</th>\n",
       "      <th>Min_Temp</th>\n",
       "      <th>Total_Precip</th>\n",
       "    </tr>\n",
       "  </thead>\n",
       "  <tbody>\n",
       "    <tr>\n",
       "      <th>0</th>\n",
       "      <td>-79.63</td>\n",
       "      <td>43.68</td>\n",
       "      <td>TORONTO INTL A</td>\n",
       "      <td>6158731</td>\n",
       "      <td>2020-09-01</td>\n",
       "      <td>28.1</td>\n",
       "      <td>18.6</td>\n",
       "      <td>10.4</td>\n",
       "    </tr>\n",
       "    <tr>\n",
       "      <th>1</th>\n",
       "      <td>-79.63</td>\n",
       "      <td>43.68</td>\n",
       "      <td>TORONTO INTL A</td>\n",
       "      <td>6158731</td>\n",
       "      <td>2020-09-02</td>\n",
       "      <td>28.3</td>\n",
       "      <td>17.8</td>\n",
       "      <td>1.6</td>\n",
       "    </tr>\n",
       "    <tr>\n",
       "      <th>2</th>\n",
       "      <td>-79.63</td>\n",
       "      <td>43.68</td>\n",
       "      <td>TORONTO INTL A</td>\n",
       "      <td>6158731</td>\n",
       "      <td>2020-09-03</td>\n",
       "      <td>28.6</td>\n",
       "      <td>14.9</td>\n",
       "      <td>2.0</td>\n",
       "    </tr>\n",
       "    <tr>\n",
       "      <th>3</th>\n",
       "      <td>-79.63</td>\n",
       "      <td>43.68</td>\n",
       "      <td>TORONTO INTL A</td>\n",
       "      <td>6158731</td>\n",
       "      <td>2020-09-04</td>\n",
       "      <td>23.0</td>\n",
       "      <td>12.4</td>\n",
       "      <td>0.2</td>\n",
       "    </tr>\n",
       "    <tr>\n",
       "      <th>4</th>\n",
       "      <td>-79.63</td>\n",
       "      <td>43.68</td>\n",
       "      <td>TORONTO INTL A</td>\n",
       "      <td>6158731</td>\n",
       "      <td>2020-09-05</td>\n",
       "      <td>21.1</td>\n",
       "      <td>11.5</td>\n",
       "      <td>0.0</td>\n",
       "    </tr>\n",
       "  </tbody>\n",
       "</table>\n",
       "</div>"
      ],
      "text/plain": [
       "   Longitude  Latitude     Station_Name Climate_ID        Date  Max_Temp  \\\n",
       "0     -79.63      43.68  TORONTO INTL A    6158731  2020-09-01      28.1   \n",
       "1     -79.63      43.68  TORONTO INTL A    6158731  2020-09-02      28.3   \n",
       "2     -79.63      43.68  TORONTO INTL A    6158731  2020-09-03      28.6   \n",
       "3     -79.63      43.68  TORONTO INTL A    6158731  2020-09-04      23.0   \n",
       "4     -79.63      43.68  TORONTO INTL A    6158731  2020-09-05      21.1   \n",
       "\n",
       "   Min_Temp  Total_Precip   \n",
       "0      18.6           10.4  \n",
       "1      17.8            1.6  \n",
       "2      14.9            2.0  \n",
       "3      12.4            0.2  \n",
       "4      11.5            0.0  "
      ]
     },
     "execution_count": 3,
     "metadata": {},
     "output_type": "execute_result"
    }
   ],
   "source": [
    "weather.head()"
   ]
  },
  {
   "cell_type": "code",
   "execution_count": 4,
   "metadata": {},
   "outputs": [],
   "source": [
    "weather = weather.dropna()"
   ]
  },
  {
   "cell_type": "code",
   "execution_count": 5,
   "metadata": {},
   "outputs": [],
   "source": [
    "weather[\"Date\"] = pd.to_datetime(weather[\"Date\"] ).dt.strftime('%Y-%m-%d')"
   ]
  },
  {
   "cell_type": "code",
   "execution_count": 6,
   "metadata": {},
   "outputs": [],
   "source": [
    "weather.insert(0, \"weather_key\",  np.arange(len(weather)))"
   ]
  },
  {
   "cell_type": "code",
   "execution_count": 7,
   "metadata": {},
   "outputs": [
    {
     "data": {
      "text/html": [
       "<div>\n",
       "<style scoped>\n",
       "    .dataframe tbody tr th:only-of-type {\n",
       "        vertical-align: middle;\n",
       "    }\n",
       "\n",
       "    .dataframe tbody tr th {\n",
       "        vertical-align: top;\n",
       "    }\n",
       "\n",
       "    .dataframe thead th {\n",
       "        text-align: right;\n",
       "    }\n",
       "</style>\n",
       "<table border=\"1\" class=\"dataframe\">\n",
       "  <thead>\n",
       "    <tr style=\"text-align: right;\">\n",
       "      <th></th>\n",
       "      <th>weather_key</th>\n",
       "      <th>Longitude</th>\n",
       "      <th>Latitude</th>\n",
       "      <th>Station_Name</th>\n",
       "      <th>Climate_ID</th>\n",
       "      <th>Date</th>\n",
       "      <th>Max_Temp</th>\n",
       "      <th>Min_Temp</th>\n",
       "      <th>Total_Precip</th>\n",
       "    </tr>\n",
       "  </thead>\n",
       "  <tbody>\n",
       "    <tr>\n",
       "      <th>0</th>\n",
       "      <td>0</td>\n",
       "      <td>-79.63</td>\n",
       "      <td>43.68</td>\n",
       "      <td>TORONTO INTL A</td>\n",
       "      <td>6158731</td>\n",
       "      <td>2020-09-01</td>\n",
       "      <td>28.1</td>\n",
       "      <td>18.6</td>\n",
       "      <td>10.4</td>\n",
       "    </tr>\n",
       "    <tr>\n",
       "      <th>1</th>\n",
       "      <td>1</td>\n",
       "      <td>-79.63</td>\n",
       "      <td>43.68</td>\n",
       "      <td>TORONTO INTL A</td>\n",
       "      <td>6158731</td>\n",
       "      <td>2020-09-02</td>\n",
       "      <td>28.3</td>\n",
       "      <td>17.8</td>\n",
       "      <td>1.6</td>\n",
       "    </tr>\n",
       "    <tr>\n",
       "      <th>2</th>\n",
       "      <td>2</td>\n",
       "      <td>-79.63</td>\n",
       "      <td>43.68</td>\n",
       "      <td>TORONTO INTL A</td>\n",
       "      <td>6158731</td>\n",
       "      <td>2020-09-03</td>\n",
       "      <td>28.6</td>\n",
       "      <td>14.9</td>\n",
       "      <td>2.0</td>\n",
       "    </tr>\n",
       "    <tr>\n",
       "      <th>3</th>\n",
       "      <td>3</td>\n",
       "      <td>-79.63</td>\n",
       "      <td>43.68</td>\n",
       "      <td>TORONTO INTL A</td>\n",
       "      <td>6158731</td>\n",
       "      <td>2020-09-04</td>\n",
       "      <td>23.0</td>\n",
       "      <td>12.4</td>\n",
       "      <td>0.2</td>\n",
       "    </tr>\n",
       "    <tr>\n",
       "      <th>4</th>\n",
       "      <td>4</td>\n",
       "      <td>-79.63</td>\n",
       "      <td>43.68</td>\n",
       "      <td>TORONTO INTL A</td>\n",
       "      <td>6158731</td>\n",
       "      <td>2020-09-05</td>\n",
       "      <td>21.1</td>\n",
       "      <td>11.5</td>\n",
       "      <td>0.0</td>\n",
       "    </tr>\n",
       "  </tbody>\n",
       "</table>\n",
       "</div>"
      ],
      "text/plain": [
       "   weather_key  Longitude  Latitude     Station_Name Climate_ID        Date  \\\n",
       "0            0     -79.63      43.68  TORONTO INTL A    6158731  2020-09-01   \n",
       "1            1     -79.63      43.68  TORONTO INTL A    6158731  2020-09-02   \n",
       "2            2     -79.63      43.68  TORONTO INTL A    6158731  2020-09-03   \n",
       "3            3     -79.63      43.68  TORONTO INTL A    6158731  2020-09-04   \n",
       "4            4     -79.63      43.68  TORONTO INTL A    6158731  2020-09-05   \n",
       "\n",
       "   Max_Temp  Min_Temp  Total_Precip   \n",
       "0      28.1      18.6           10.4  \n",
       "1      28.3      17.8            1.6  \n",
       "2      28.6      14.9            2.0  \n",
       "3      23.0      12.4            0.2  \n",
       "4      21.1      11.5            0.0  "
      ]
     },
     "execution_count": 7,
     "metadata": {},
     "output_type": "execute_result"
    }
   ],
   "source": [
    "weather.head()"
   ]
  },
  {
   "cell_type": "code",
   "execution_count": null,
   "metadata": {},
   "outputs": [],
   "source": [
    "weather.to_csv(\"weather_dimension.csv\",index=False)"
   ]
  },
  {
   "cell_type": "code",
   "execution_count": null,
   "metadata": {},
   "outputs": [],
   "source": []
  },
  {
   "cell_type": "code",
   "execution_count": null,
   "metadata": {},
   "outputs": [],
   "source": []
  }
 ],
 "metadata": {
  "kernelspec": {
   "display_name": "Python 3",
   "language": "python",
   "name": "python3"
  },
  "language_info": {
   "codemirror_mode": {
    "name": "ipython",
    "version": 3
   },
   "file_extension": ".py",
   "mimetype": "text/x-python",
   "name": "python",
   "nbconvert_exporter": "python",
   "pygments_lexer": "ipython3",
   "version": "3.8.5"
  }
 },
 "nbformat": 4,
 "nbformat_minor": 4
}
